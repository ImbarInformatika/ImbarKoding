{
  "nbformat": 4,
  "nbformat_minor": 0,
  "metadata": {
    "colab": {
      "name": "Contoh Tuple Dengan Perulangan",
      "provenance": [],
      "collapsed_sections": [],
      "authorship_tag": "ABX9TyN/Y5BVPQ2pzHZMoDBSPuA0",
      "include_colab_link": true
    },
    "kernelspec": {
      "name": "python3",
      "display_name": "Python 3"
    },
    "language_info": {
      "name": "python"
    }
  },
  "cells": [
    {
      "cell_type": "markdown",
      "metadata": {
        "id": "view-in-github",
        "colab_type": "text"
      },
      "source": [
        "<a href=\"https://colab.research.google.com/github/ImbarInformatika/Tugas_1_SDA/blob/main/Contoh_Tuple_Dengan_Perulangan.ipynb\" target=\"_parent\"><img src=\"https://colab.research.google.com/assets/colab-badge.svg\" alt=\"Open In Colab\"/></a>"
      ]
    },
    {
      "cell_type": "code",
      "execution_count": null,
      "metadata": {
        "colab": {
          "base_uri": "https://localhost:8080/"
        },
        "id": "YsUL0A0rtHzu",
        "outputId": "b4c6889c-b8f3-4ef6-c345-7f0af0ddbd8b"
      },
      "outputs": [
        {
          "output_type": "stream",
          "name": "stdout",
          "text": [
            "sapi\n",
            "kambing\n",
            "kelinci\n",
            "sapi\n",
            "domba\n",
            "sapi\n",
            "kambing\n",
            "kelinci\n",
            "sapi\n",
            "domba\n",
            "['sapi', 'kambing', 'ayam', 'sapi', 'domba']\n",
            "['sapi', 'kambing', 'ayam', 'sapi']\n",
            "['sapi', 'ayam', 'sapi']\n",
            "['sapi']\n",
            "['sapi', 'ular']\n",
            "['sapi', 'ular', 'buaya', 'cacing']\n",
            "['sapi', 'ular', 'buaya', 'elang', 'cacing']\n"
          ]
        }
      ],
      "source": [
        "#membuat contoh tuple\n",
        "hewan = (\"sapi\", \"kambing\", \"kelinci\", \"sapi\", \"domba\")\n",
        "\n",
        "#menampilkan tuple dengan perulangan\n",
        "for i in hewan :\n",
        "   print(i)\n",
        "\n",
        "a = 0\n",
        "while a < len(hewan):\n",
        "   print(hewan[a])\n",
        "   a += 1\n",
        "\n",
        "hewan = list(hewan)\n",
        "\n",
        "#mengupdate salah satu tuple\n",
        "hewan [2] = \"ayam\"\n",
        "print(hewan)\n",
        "\n",
        "#menghapus salah satu tuple\n",
        "hewan.pop()\n",
        "print(hewan) \n",
        "\n",
        "hewan.remove (\"kambing\")\n",
        "print(hewan)\n",
        "\n",
        "del hewan [0:2]\n",
        "print(hewan)\n",
        "\n",
        "#menambahkan tuple\n",
        "hewan.append (\"ular\")\n",
        "print(hewan)\n",
        "\n",
        "hewan. extend([\"buaya\", \"cacing\"])\n",
        "print(hewan)\n",
        "\n",
        "hewan.insert(3, \"elang\")\n",
        "print(hewan)"
      ]
    }
  ]
}