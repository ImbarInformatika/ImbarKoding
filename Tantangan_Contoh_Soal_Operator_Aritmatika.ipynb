{
  "nbformat": 4,
  "nbformat_minor": 0,
  "metadata": {
    "colab": {
      "name": "Tantangan Contoh Soal Operator Aritmatika",
      "provenance": [],
      "collapsed_sections": [],
      "toc_visible": true,
      "authorship_tag": "ABX9TyMh8LmCQDJOJ+XpO57cqvgI",
      "include_colab_link": true
    },
    "kernelspec": {
      "name": "python3",
      "display_name": "Python 3"
    },
    "language_info": {
      "name": "python"
    }
  },
  "cells": [
    {
      "cell_type": "markdown",
      "metadata": {
        "id": "view-in-github",
        "colab_type": "text"
      },
      "source": [
        "<a href=\"https://colab.research.google.com/github/ImbarInformatika/ImbarKoding/blob/main/Tantangan_Contoh_Soal_Operator_Aritmatika.ipynb\" target=\"_parent\"><img src=\"https://colab.research.google.com/assets/colab-badge.svg\" alt=\"Open In Colab\"/></a>"
      ]
    },
    {
      "cell_type": "code",
      "execution_count": null,
      "metadata": {
        "colab": {
          "base_uri": "https://localhost:8080/"
        },
        "id": "2n2U8A6wM-_g",
        "outputId": "c30ceed6-7151-4d94-effe-b9962e99a751"
      },
      "outputs": [
        {
          "output_type": "stream",
          "name": "stdout",
          "text": [
            "masukkan berapa lama anda lembur : 5\n",
            "gaji pokok : Rp.  1000000\n",
            "gaji lembur : Rp.  25000\n",
            "gaji kotor : Rp.  1025000\n",
            "potongan : Rp.  92250.0\n",
            "gaji bersih : Rp.  932750.0\n"
          ]
        }
      ],
      "source": [
        "#Contoh Soal Operator Aritmatika\n",
        "#gaji kariawan\n",
        "#gaji pokok = Rp. 1000000\n",
        "#gaji lembur/jam = Rp. 5000\n",
        "#pajak = 9%\n",
        "\n",
        "gaji_pokok = 1000000\n",
        "lama_lembur = int(input(\"masukkan berapa lama anda lembur : \"))\n",
        "\n",
        "print(\"gaji pokok : Rp. \",gaji_pokok)\n",
        "gaji_lembur = 5000 * lama_lembur\n",
        "print(\"gaji lembur : Rp. \", gaji_lembur)\n",
        "gaji_kotor = gaji_pokok + gaji_lembur\n",
        "print(\"gaji kotor : Rp. \", gaji_kotor)\n",
        "potongan = gaji_kotor * 9/100\n",
        "print(\"potongan : Rp. \", potongan)\n",
        "gaji_bersih = gaji_kotor - potongan\n",
        "print(\"gaji bersih : Rp. \", gaji_bersih)"
      ]
    }
  ]
}