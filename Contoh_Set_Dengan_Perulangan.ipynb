{
  "nbformat": 4,
  "nbformat_minor": 0,
  "metadata": {
    "colab": {
      "name": "Contoh Set Dengan Perulangan",
      "provenance": [],
      "collapsed_sections": [],
      "authorship_tag": "ABX9TyO5yCkRMU5F5d5HdGcZu3LR",
      "include_colab_link": true
    },
    "kernelspec": {
      "name": "python3",
      "display_name": "Python 3"
    },
    "language_info": {
      "name": "python"
    }
  },
  "cells": [
    {
      "cell_type": "markdown",
      "metadata": {
        "id": "view-in-github",
        "colab_type": "text"
      },
      "source": [
        "<a href=\"https://colab.research.google.com/github/ImbarInformatika/Tugas_1_SDA/blob/main/Contoh_Set_Dengan_Perulangan.ipynb\" target=\"_parent\"><img src=\"https://colab.research.google.com/assets/colab-badge.svg\" alt=\"Open In Colab\"/></a>"
      ]
    },
    {
      "cell_type": "code",
      "execution_count": null,
      "metadata": {
        "id": "j8VgzYPvj7vj",
        "colab": {
          "base_uri": "https://localhost:8080/"
        },
        "outputId": "a9beef13-35ef-4e33-fc04-78c382163e97"
      },
      "outputs": [
        {
          "output_type": "stream",
          "name": "stdout",
          "text": [
            "False\n",
            "5\n",
            "imbar\n",
            "10\n",
            "pai\n",
            "False\n",
            "5\n",
            "imbar\n",
            "10\n",
            "pai\n",
            "[False, 'kipas', 'imbar', 10, 'pai']\n",
            "{False, 'imbar', 10, 'pai'}\n",
            "{False, 'imbar', 10, 'pai'}\n",
            "{'imbar', 10, 'pai'}\n",
            "set()\n",
            "{'imbar'}\n",
            "{'imbar', 'sepatu', 'piring'}\n"
          ]
        }
      ],
      "source": [
        "#membuat contoh set\n",
        "nama = {\"imbar\", 10, False, 5, \"pai\"}\n",
        "\n",
        "#menampilkan set dengan perulangan\n",
        "for i in nama :\n",
        "    print(i)\n",
        "\n",
        "nama = list(nama)\n",
        "i = 0 \n",
        "while i < len(nama):\n",
        "    print(nama[i])\n",
        "    i += 1\n",
        "\n",
        "#mengupdate salah satu set\n",
        "nama [1] = \"kipas\"\n",
        "print(nama)\n",
        "\n",
        "nama = set (nama)\n",
        "\n",
        "#menghapus salah satu set\n",
        "nama.remove (\"kipas\")\n",
        "print(nama)\n",
        "\n",
        "nama.discard (\"kayu\")\n",
        "print(nama)\n",
        "\n",
        "nama.pop()\n",
        "print(nama)\n",
        "\n",
        "nama.clear()\n",
        "print(nama)\n",
        "\n",
        "#menambahkan set\n",
        "nama.add (\"imbar\")\n",
        "print(nama)\n",
        "\n",
        "nama.update ([\"piring\", \"sepatu\"])\n",
        "print(nama)"
      ]
    }
  ]
}